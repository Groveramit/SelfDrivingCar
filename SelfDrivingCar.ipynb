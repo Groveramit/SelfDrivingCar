{
  "nbformat": 4,
  "nbformat_minor": 0,
  "metadata": {
    "colab": {
      "name": "SelfDrivingCar.ipynb",
      "provenance": [],
      "authorship_tag": "ABX9TyNxewJ4NQOl9LB4xQvcRQdd",
      "include_colab_link": true
    },
    "kernelspec": {
      "name": "python3",
      "display_name": "Python 3"
    }
  },
  "cells": [
    {
      "cell_type": "markdown",
      "metadata": {
        "id": "view-in-github",
        "colab_type": "text"
      },
      "source": [
        "<a href=\"https://colab.research.google.com/github/Groveramit/SelfDrivingCar/blob/master/SelfDrivingCar.ipynb\" target=\"_parent\"><img src=\"https://colab.research.google.com/assets/colab-badge.svg\" alt=\"Open In Colab\"/></a>"
      ]
    },
    {
      "cell_type": "code",
      "metadata": {
        "id": "eWRDKp6To9vQ",
        "colab_type": "code",
        "colab": {
          "base_uri": "https://localhost:8080/",
          "height": 105
        },
        "outputId": "8bfa0496-d974-4361-b259-4b400f096303"
      },
      "source": [
        "!git clone https://github.com/Groveramit/SelfDrivingCar"
      ],
      "execution_count": 1,
      "outputs": [
        {
          "output_type": "stream",
          "text": [
            "Cloning into 'SelfDrivingCar'...\n",
            "remote: Enumerating objects: 14514, done.\u001b[K\n",
            "remote: Total 14514 (delta 0), reused 0 (delta 0), pack-reused 14514\n",
            "Receiving objects: 100% (14514/14514), 183.66 MiB | 13.81 MiB/s, done.\n",
            "Checking out files: 100% (14512/14512), done.\n"
          ],
          "name": "stdout"
        }
      ]
    },
    {
      "cell_type": "code",
      "metadata": {
        "id": "rsQAGh5bp3NC",
        "colab_type": "code",
        "colab": {}
      },
      "source": [
        "import os\n",
        "import numpy as np\n",
        "import keras\n",
        "import matplotlib.pyplot as plt\n",
        "from keras.models import Sequential\n",
        "from keras.optimizers import Adam\n",
        "from keras.layers import Conv2D, MaxPooling2D, Dropout,Flatten, Dense\n",
        "import cv2\n",
        "import pandas as pd\n",
        "import random\n",
        "import ntpath\n"
      ],
      "execution_count": 20,
      "outputs": []
    },
    {
      "cell_type": "code",
      "metadata": {
        "id": "C22rzDH6p-Y8",
        "colab_type": "code",
        "colab": {
          "base_uri": "https://localhost:8080/",
          "height": 430
        },
        "outputId": "8d48358a-445e-41c2-b283-7f3278667866"
      },
      "source": [
        "datadir='SelfDrivingCar/TrainingData'\n",
        "columns=['center','left','right','steering','throttle','reverse','speed']\n",
        "data=pd.read_csv(os.path.join(datadir,'driving_log.csv'),names=columns)\n",
        "pd.set_option('display.max_colwidth',-1)\n",
        "data.head()"
      ],
      "execution_count": 17,
      "outputs": [
        {
          "output_type": "stream",
          "text": [
            "/usr/local/lib/python3.6/dist-packages/ipykernel_launcher.py:4: FutureWarning: Passing a negative integer is deprecated in version 1.0 and will not be supported in future version. Instead, use None to not limit the column width.\n",
            "  after removing the cwd from sys.path.\n"
          ],
          "name": "stderr"
        },
        {
          "output_type": "execute_result",
          "data": {
            "text/html": [
              "<div>\n",
              "<style scoped>\n",
              "    .dataframe tbody tr th:only-of-type {\n",
              "        vertical-align: middle;\n",
              "    }\n",
              "\n",
              "    .dataframe tbody tr th {\n",
              "        vertical-align: top;\n",
              "    }\n",
              "\n",
              "    .dataframe thead th {\n",
              "        text-align: right;\n",
              "    }\n",
              "</style>\n",
              "<table border=\"1\" class=\"dataframe\">\n",
              "  <thead>\n",
              "    <tr style=\"text-align: right;\">\n",
              "      <th></th>\n",
              "      <th>center</th>\n",
              "      <th>left</th>\n",
              "      <th>right</th>\n",
              "      <th>steering</th>\n",
              "      <th>throttle</th>\n",
              "      <th>reverse</th>\n",
              "      <th>speed</th>\n",
              "    </tr>\n",
              "  </thead>\n",
              "  <tbody>\n",
              "    <tr>\n",
              "      <th>0</th>\n",
              "      <td>C:\\Users\\Neha Gupta.DESKTOP-23F4KUG\\Downloads\\simulator-windows-64\\IMG\\center_2020_09_18_17_42_38_450.jpg</td>\n",
              "      <td>C:\\Users\\Neha Gupta.DESKTOP-23F4KUG\\Downloads\\simulator-windows-64\\IMG\\left_2020_09_18_17_42_38_450.jpg</td>\n",
              "      <td>C:\\Users\\Neha Gupta.DESKTOP-23F4KUG\\Downloads\\simulator-windows-64\\IMG\\right_2020_09_18_17_42_38_450.jpg</td>\n",
              "      <td>0.0</td>\n",
              "      <td>0.0</td>\n",
              "      <td>0</td>\n",
              "      <td>0.000082</td>\n",
              "    </tr>\n",
              "    <tr>\n",
              "      <th>1</th>\n",
              "      <td>C:\\Users\\Neha Gupta.DESKTOP-23F4KUG\\Downloads\\simulator-windows-64\\IMG\\center_2020_09_18_17_42_38_552.jpg</td>\n",
              "      <td>C:\\Users\\Neha Gupta.DESKTOP-23F4KUG\\Downloads\\simulator-windows-64\\IMG\\left_2020_09_18_17_42_38_552.jpg</td>\n",
              "      <td>C:\\Users\\Neha Gupta.DESKTOP-23F4KUG\\Downloads\\simulator-windows-64\\IMG\\right_2020_09_18_17_42_38_552.jpg</td>\n",
              "      <td>0.0</td>\n",
              "      <td>0.0</td>\n",
              "      <td>0</td>\n",
              "      <td>0.000081</td>\n",
              "    </tr>\n",
              "    <tr>\n",
              "      <th>2</th>\n",
              "      <td>C:\\Users\\Neha Gupta.DESKTOP-23F4KUG\\Downloads\\simulator-windows-64\\IMG\\center_2020_09_18_17_42_38_656.jpg</td>\n",
              "      <td>C:\\Users\\Neha Gupta.DESKTOP-23F4KUG\\Downloads\\simulator-windows-64\\IMG\\left_2020_09_18_17_42_38_656.jpg</td>\n",
              "      <td>C:\\Users\\Neha Gupta.DESKTOP-23F4KUG\\Downloads\\simulator-windows-64\\IMG\\right_2020_09_18_17_42_38_656.jpg</td>\n",
              "      <td>0.0</td>\n",
              "      <td>0.0</td>\n",
              "      <td>0</td>\n",
              "      <td>0.000078</td>\n",
              "    </tr>\n",
              "    <tr>\n",
              "      <th>3</th>\n",
              "      <td>C:\\Users\\Neha Gupta.DESKTOP-23F4KUG\\Downloads\\simulator-windows-64\\IMG\\center_2020_09_18_17_42_38_757.jpg</td>\n",
              "      <td>C:\\Users\\Neha Gupta.DESKTOP-23F4KUG\\Downloads\\simulator-windows-64\\IMG\\left_2020_09_18_17_42_38_757.jpg</td>\n",
              "      <td>C:\\Users\\Neha Gupta.DESKTOP-23F4KUG\\Downloads\\simulator-windows-64\\IMG\\right_2020_09_18_17_42_38_757.jpg</td>\n",
              "      <td>0.0</td>\n",
              "      <td>0.0</td>\n",
              "      <td>0</td>\n",
              "      <td>0.000082</td>\n",
              "    </tr>\n",
              "    <tr>\n",
              "      <th>4</th>\n",
              "      <td>C:\\Users\\Neha Gupta.DESKTOP-23F4KUG\\Downloads\\simulator-windows-64\\IMG\\center_2020_09_18_17_42_38_861.jpg</td>\n",
              "      <td>C:\\Users\\Neha Gupta.DESKTOP-23F4KUG\\Downloads\\simulator-windows-64\\IMG\\left_2020_09_18_17_42_38_861.jpg</td>\n",
              "      <td>C:\\Users\\Neha Gupta.DESKTOP-23F4KUG\\Downloads\\simulator-windows-64\\IMG\\right_2020_09_18_17_42_38_861.jpg</td>\n",
              "      <td>0.0</td>\n",
              "      <td>0.0</td>\n",
              "      <td>0</td>\n",
              "      <td>0.000079</td>\n",
              "    </tr>\n",
              "  </tbody>\n",
              "</table>\n",
              "</div>"
            ],
            "text/plain": [
              "                                                                                                      center  ...     speed\n",
              "0  C:\\Users\\Neha Gupta.DESKTOP-23F4KUG\\Downloads\\simulator-windows-64\\IMG\\center_2020_09_18_17_42_38_450.jpg  ...  0.000082\n",
              "1  C:\\Users\\Neha Gupta.DESKTOP-23F4KUG\\Downloads\\simulator-windows-64\\IMG\\center_2020_09_18_17_42_38_552.jpg  ...  0.000081\n",
              "2  C:\\Users\\Neha Gupta.DESKTOP-23F4KUG\\Downloads\\simulator-windows-64\\IMG\\center_2020_09_18_17_42_38_656.jpg  ...  0.000078\n",
              "3  C:\\Users\\Neha Gupta.DESKTOP-23F4KUG\\Downloads\\simulator-windows-64\\IMG\\center_2020_09_18_17_42_38_757.jpg  ...  0.000082\n",
              "4  C:\\Users\\Neha Gupta.DESKTOP-23F4KUG\\Downloads\\simulator-windows-64\\IMG\\center_2020_09_18_17_42_38_861.jpg  ...  0.000079\n",
              "\n",
              "[5 rows x 7 columns]"
            ]
          },
          "metadata": {
            "tags": []
          },
          "execution_count": 17
        }
      ]
    },
    {
      "cell_type": "code",
      "metadata": {
        "id": "h5b1BQ2Sy25Q",
        "colab_type": "code",
        "colab": {
          "base_uri": "https://localhost:8080/",
          "height": 203
        },
        "outputId": "90a62146-5254-4bde-c9bc-7b1259167be4"
      },
      "source": [
        "def path_leaf(path):\n",
        "  head,tail=ntpath.split(path)\n",
        "  return tail\n",
        "data['center']=data['center'].apply(path_leaf)\n",
        "data['left']=data['left'].apply(path_leaf)\n",
        "data['right']=data['right'].apply(path_leaf)\n",
        "data.head()"
      ],
      "execution_count": 24,
      "outputs": [
        {
          "output_type": "execute_result",
          "data": {
            "text/html": [
              "<div>\n",
              "<style scoped>\n",
              "    .dataframe tbody tr th:only-of-type {\n",
              "        vertical-align: middle;\n",
              "    }\n",
              "\n",
              "    .dataframe tbody tr th {\n",
              "        vertical-align: top;\n",
              "    }\n",
              "\n",
              "    .dataframe thead th {\n",
              "        text-align: right;\n",
              "    }\n",
              "</style>\n",
              "<table border=\"1\" class=\"dataframe\">\n",
              "  <thead>\n",
              "    <tr style=\"text-align: right;\">\n",
              "      <th></th>\n",
              "      <th>center</th>\n",
              "      <th>left</th>\n",
              "      <th>right</th>\n",
              "      <th>steering</th>\n",
              "      <th>throttle</th>\n",
              "      <th>reverse</th>\n",
              "      <th>speed</th>\n",
              "    </tr>\n",
              "  </thead>\n",
              "  <tbody>\n",
              "    <tr>\n",
              "      <th>0</th>\n",
              "      <td>center_2020_09_18_17_42_38_450.jpg</td>\n",
              "      <td>left_2020_09_18_17_42_38_450.jpg</td>\n",
              "      <td>right_2020_09_18_17_42_38_450.jpg</td>\n",
              "      <td>0.0</td>\n",
              "      <td>0.0</td>\n",
              "      <td>0</td>\n",
              "      <td>0.000082</td>\n",
              "    </tr>\n",
              "    <tr>\n",
              "      <th>1</th>\n",
              "      <td>center_2020_09_18_17_42_38_552.jpg</td>\n",
              "      <td>left_2020_09_18_17_42_38_552.jpg</td>\n",
              "      <td>right_2020_09_18_17_42_38_552.jpg</td>\n",
              "      <td>0.0</td>\n",
              "      <td>0.0</td>\n",
              "      <td>0</td>\n",
              "      <td>0.000081</td>\n",
              "    </tr>\n",
              "    <tr>\n",
              "      <th>2</th>\n",
              "      <td>center_2020_09_18_17_42_38_656.jpg</td>\n",
              "      <td>left_2020_09_18_17_42_38_656.jpg</td>\n",
              "      <td>right_2020_09_18_17_42_38_656.jpg</td>\n",
              "      <td>0.0</td>\n",
              "      <td>0.0</td>\n",
              "      <td>0</td>\n",
              "      <td>0.000078</td>\n",
              "    </tr>\n",
              "    <tr>\n",
              "      <th>3</th>\n",
              "      <td>center_2020_09_18_17_42_38_757.jpg</td>\n",
              "      <td>left_2020_09_18_17_42_38_757.jpg</td>\n",
              "      <td>right_2020_09_18_17_42_38_757.jpg</td>\n",
              "      <td>0.0</td>\n",
              "      <td>0.0</td>\n",
              "      <td>0</td>\n",
              "      <td>0.000082</td>\n",
              "    </tr>\n",
              "    <tr>\n",
              "      <th>4</th>\n",
              "      <td>center_2020_09_18_17_42_38_861.jpg</td>\n",
              "      <td>left_2020_09_18_17_42_38_861.jpg</td>\n",
              "      <td>right_2020_09_18_17_42_38_861.jpg</td>\n",
              "      <td>0.0</td>\n",
              "      <td>0.0</td>\n",
              "      <td>0</td>\n",
              "      <td>0.000079</td>\n",
              "    </tr>\n",
              "  </tbody>\n",
              "</table>\n",
              "</div>"
            ],
            "text/plain": [
              "                               center  ...     speed\n",
              "0  center_2020_09_18_17_42_38_450.jpg  ...  0.000082\n",
              "1  center_2020_09_18_17_42_38_552.jpg  ...  0.000081\n",
              "2  center_2020_09_18_17_42_38_656.jpg  ...  0.000078\n",
              "3  center_2020_09_18_17_42_38_757.jpg  ...  0.000082\n",
              "4  center_2020_09_18_17_42_38_861.jpg  ...  0.000079\n",
              "\n",
              "[5 rows x 7 columns]"
            ]
          },
          "metadata": {
            "tags": []
          },
          "execution_count": 24
        }
      ]
    },
    {
      "cell_type": "code",
      "metadata": {
        "id": "al1FIrP_z58A",
        "colab_type": "code",
        "colab": {
          "base_uri": "https://localhost:8080/",
          "height": 265
        },
        "outputId": "b0363dfb-468c-49fc-b622-d6d2d2db11a8"
      },
      "source": [
        "num_bins=25\n",
        "plt.hist(data['steering'],5)\n",
        "plt.show()\n"
      ],
      "execution_count": 32,
      "outputs": [
        {
          "output_type": "display_data",
          "data": {
            "image/png": "[encoded data removed]",
            "text/plain": [
              "<Figure size 432x288 with 1 Axes>"
            ]
          },
          "metadata": {
            "tags": [],
            "needs_background": "light"
          }
        }
      ]
    }
  ]
}